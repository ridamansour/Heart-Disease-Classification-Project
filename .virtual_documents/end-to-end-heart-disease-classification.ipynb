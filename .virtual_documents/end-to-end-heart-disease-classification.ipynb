





# Import all the tools we need

# Regular EDA (exploratory data analysis) and plotting libraries
import numpy as np
import pandas as pd
import matplotlib.pyplot as plt
import seaborn as sns

# We want our plots to appear inside the notebook
# %matplotlib inline

# Models from sk-learn
from sklearn.linear_model import LogisticRegression
from sklearn.neighbors import KNeighborsClassifier
from sklearn.ensemble import RandomForestClassifier

# Model Evaluation
from sklearn.model_selection import train_test_split, cross_val_score
from sklearn.model_selection import RandomizedSearchCV, GridSearchCV
from sklearn.metrics import confusion_matrix, classification_report
from sklearn.metrics import precision_score, recall_score, roc_curve, f1_score
from sklearn.metrics import RocCurveDisplay, auc





df = pd.read_csv('data/heart-disease.csv')
df


df.shape # (rows, columns)





df.head()


df.tail()


# Let's find out how many of each class there
df["target"].value_counts()


df["target"].value_counts().plot(kind="bar", color=["salmon", "lightblue"])



